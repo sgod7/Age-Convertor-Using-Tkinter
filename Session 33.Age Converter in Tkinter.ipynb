{
 "cells": [
  {
   "cell_type": "code",
   "execution_count": null,
   "id": "9079d1a5",
   "metadata": {},
   "outputs": [],
   "source": [
    "from tkinter import *\n",
    "from datetime import date\n",
    "root = Tk()\n",
    "root.title(\"Age Calculator\")\n",
    "root.configure(bg = \"white\")\n",
    "root.geometry(\"400x300\")\n",
    "root.iconbitmap(\"age.ico\")\n",
    "\n",
    "\n",
    "new = Label(root,bg = \"red\").grid(row = 5, column = 0, columnspan = 3)\n",
    "\n",
    "today = str(date.today())\n",
    "list_today = today.split(\"-\")\n",
    "\n",
    "def age(b_date,b_month,b_year):\n",
    "    global today\n",
    "    global new\n",
    "    \n",
    "    #new.grid_forget()\n",
    "    b_date = int(entry_date.get())\n",
    "    b_month = int(entry_month.get())\n",
    "    b_year = int(entry_year.get())\n",
    "    c_date = int(list_today[2])\n",
    "    c_month = int(list_today[1])\n",
    "    c_year = int(list_today[0])\n",
    "    month = [31,28,31,30,31,30,31,31,30,31,30,31]\n",
    "    if b_date > c_date:\n",
    "        c_month = c_month - 1\n",
    "        c_date = c_date + month[b_month - 1]\n",
    "    if b_month > c_month:\n",
    "        c_year = c_year - 1\n",
    "        c_month = c_month + 12\n",
    "    \n",
    "    resultd = str(c_date-b_date)\n",
    "    resultm = str(c_month-b_month)\n",
    "    resulty = str(c_year-b_year)\n",
    "    \n",
    "    new=Label(root,text=\"YOUR AGE \\n\"+resulty+\" YEARS \"+resultm+\" MONTHS \"+ resultd+\" DAYS \",fg=\"#000\",bg=\"#B22222\",borderwidth=6)\n",
    "    new.config(font=(\"Arial Rounded MT Bold\",15))\n",
    "    new.grid(row=5,column=0,columnspan=3)\n",
    "\n",
    "def clean(entry_date, entry_month, entry_year):\n",
    "    global new\n",
    "    #new.grid_forget()\n",
    "    entry_date.delete(0,END)\n",
    "    entry_month.delete(0,END)\n",
    "    entry_year.delete(0,END)\n",
    "\n",
    "    \n",
    "title_label=Label(root,text=\"AGE CALCULATOR\",borderwidth=10,fg=\"#404042\",bg=\"#fff\")\n",
    "title_label.config(font=(\"Arial Rounded MT Bold\",29))\n",
    "title_label.grid(row=0,column=0,columnspan=3)\n",
    "label_date=Label(root,text=\"BIRTH DATE : \",borderwidth=4,fg=\"#404042\",bg=\"#fff\")\n",
    "label_date.config(font=(\"Arial Rounded MT Bold\",15))\n",
    "label_date.grid(row=1,column=0)\n",
    "label_month=Label(root,text=\"BIRTH MONTH : \",borderwidth=5,fg=\"#404042\",bg=\"#fff\")\n",
    "label_month.config(font=(\"Arial Rounded MT Bold\",15))\n",
    "label_month.grid(row=2,column=0)\n",
    "label_year=Label(root,text=\"BIRTH YEAR : \",borderwidth=9,fg=\"#404042\",bg=\"#fff\")\n",
    "label_year.config(font=(\"Arial Rounded MT Bold\",15))\n",
    "label_year.grid(row=3,column=0)\n",
    "\n",
    "entry_date=Entry(root,width=20,borderwidth=3)\n",
    "entry_month=Entry(root,width=20,borderwidth=3)\n",
    "entry_year=Entry(root,width=20,borderwidth=3)\n",
    "\n",
    "entry_date.grid(row=1,column=2)\n",
    "entry_month.grid(row=2,column=2)\n",
    "entry_year.grid(row=3,column=2)\n",
    "\n",
    "b_date=entry_date.get()\n",
    "b_month=entry_month.get()\n",
    "b_year=entry_year.get()\n",
    "\n",
    "submit=Button(root,text=\"GET AGE!!\",width=10,anchor=CENTER,command=lambda:age(b_date,b_month,b_year),fg=\"#fff\",bg=\"#404042\")\n",
    "submit.grid(row=4,column=0)\n",
    "\n",
    "clear=Button(root,text=\"CLEAR\",width=10,command=lambda:clean(entry_date,entry_month,entry_year),fg=\"#fff\",bg=\"#404042\")\n",
    "clear.grid(row=4,column=2)\n",
    "\n",
    "    \n",
    "root.mainloop()\n"
   ]
  },
  {
   "cell_type": "code",
   "execution_count": 12,
   "id": "b1e9d648",
   "metadata": {},
   "outputs": [
    {
     "name": "stdout",
     "output_type": "stream",
     "text": [
      "2022-09-03\n",
      "['2022', '09', '03']\n"
     ]
    }
   ],
   "source": [
    "today = str(date.today())\n",
    "print(today)\n",
    "list_today = today.split(\"-\")\n",
    "print(list_today)\n"
   ]
  },
  {
   "cell_type": "code",
   "execution_count": null,
   "id": "a6d9e9c4",
   "metadata": {},
   "outputs": [],
   "source": []
  }
 ],
 "metadata": {
  "kernelspec": {
   "display_name": "Python 3 (ipykernel)",
   "language": "python",
   "name": "python3"
  },
  "language_info": {
   "codemirror_mode": {
    "name": "ipython",
    "version": 3
   },
   "file_extension": ".py",
   "mimetype": "text/x-python",
   "name": "python",
   "nbconvert_exporter": "python",
   "pygments_lexer": "ipython3",
   "version": "3.9.7"
  }
 },
 "nbformat": 4,
 "nbformat_minor": 5
}
